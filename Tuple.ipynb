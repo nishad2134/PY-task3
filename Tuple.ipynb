{
 "cells": [
  {
   "cell_type": "markdown",
   "id": "924cb45c-d5f0-4fc3-88dd-ed2c57562948",
   "metadata": {},
   "source": [
    "# Tuple"
   ]
  },
  {
   "cell_type": "code",
   "execution_count": 12,
   "id": "ac389e6d-2247-45a4-842a-4db9d390a173",
   "metadata": {},
   "outputs": [
    {
     "name": "stdout",
     "output_type": "stream",
     "text": [
      "()\n"
     ]
    }
   ],
   "source": [
    "empty_tuple = ()\n",
    "print(empty_tuple) \n"
   ]
  },
  {
   "cell_type": "code",
   "execution_count": 14,
   "id": "6911bb25-e8eb-4640-97a1-b3187fad2e68",
   "metadata": {},
   "outputs": [
    {
     "name": "stdout",
     "output_type": "stream",
     "text": [
      "(1, 2, 3)\n"
     ]
    }
   ],
   "source": [
    "int_tuple = (1, 2, 3)\n",
    "print(int_tuple)"
   ]
  },
  {
   "cell_type": "code",
   "execution_count": 16,
   "id": "635bdf75-82b1-41a0-a2ca-aad4f7ac348d",
   "metadata": {},
   "outputs": [
    {
     "name": "stdout",
     "output_type": "stream",
     "text": [
      "(1, 'Hello', 3.14)\n"
     ]
    }
   ],
   "source": [
    "mixed_tuple = (1, \"Hello\", 3.14)\n",
    "print(mixed_tuple)\n"
   ]
  },
  {
   "cell_type": "code",
   "execution_count": 18,
   "id": "04e6ea59-6088-4f78-a223-3082f7eeb6e9",
   "metadata": {},
   "outputs": [
    {
     "name": "stdout",
     "output_type": "stream",
     "text": [
      "(1, (2, 3), (4, 5))\n"
     ]
    }
   ],
   "source": [
    "nested_tuple = (1, (2, 3), (4, 5))\n",
    "print(nested_tuple) \n"
   ]
  },
  {
   "cell_type": "code",
   "execution_count": 20,
   "id": "244639e2-6512-4b62-baf0-287ff65ce672",
   "metadata": {},
   "outputs": [
    {
     "name": "stdout",
     "output_type": "stream",
     "text": [
      "('apple', 'banana', 'cherry')\n"
     ]
    }
   ],
   "source": [
    "string_tuple = (\"apple\", \"banana\", \"cherry\")\n",
    "print(string_tuple)\n"
   ]
  },
  {
   "cell_type": "code",
   "execution_count": 22,
   "id": "3cab2fa0-4e71-4d5c-b490-10cfdf1d281c",
   "metadata": {},
   "outputs": [
    {
     "name": "stdout",
     "output_type": "stream",
     "text": [
      "(True, False, True)\n"
     ]
    }
   ],
   "source": [
    "bool_tuple = (True, False, True)\n",
    "print(bool_tuple)"
   ]
  },
  {
   "cell_type": "code",
   "execution_count": 24,
   "id": "f30c268d-039a-49ac-aa81-bda3ee73123e",
   "metadata": {},
   "outputs": [
    {
     "name": "stdout",
     "output_type": "stream",
     "text": [
      "(1, 2, 3)\n"
     ]
    }
   ],
   "source": [
    "constructor_tuple = tuple([1, 2, 3])\n",
    "print(constructor_tuple) \n"
   ]
  },
  {
   "cell_type": "code",
   "execution_count": 26,
   "id": "d2f170d0-e3ea-4285-a07d-48d896202358",
   "metadata": {},
   "outputs": [
    {
     "name": "stdout",
     "output_type": "stream",
     "text": [
      "(1,)\n"
     ]
    }
   ],
   "source": [
    "single_element_tuple = (1,)\n",
    "print(single_element_tuple)\n"
   ]
  },
  {
   "cell_type": "code",
   "execution_count": null,
   "id": "4fa996d6-9b63-4c54-a576-af38e89ada10",
   "metadata": {},
   "outputs": [],
   "source": []
  }
 ],
 "metadata": {
  "kernelspec": {
   "display_name": "Python 3 (ipykernel)",
   "language": "python",
   "name": "python3"
  },
  "language_info": {
   "codemirror_mode": {
    "name": "ipython",
    "version": 3
   },
   "file_extension": ".py",
   "mimetype": "text/x-python",
   "name": "python",
   "nbconvert_exporter": "python",
   "pygments_lexer": "ipython3",
   "version": "3.12.4"
  }
 },
 "nbformat": 4,
 "nbformat_minor": 5
}
