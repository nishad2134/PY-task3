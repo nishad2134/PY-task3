{
 "cells": [
  {
   "cell_type": "markdown",
   "id": "b7015fc2-032a-4dce-a7b4-5ea3385d6a74",
   "metadata": {},
   "source": [
    "# Examples of different datatypes"
   ]
  },
  {
   "cell_type": "markdown",
   "id": "329b90d1-7d79-4be9-9738-e6a726f997ed",
   "metadata": {},
   "source": [
    "# Numeric type"
   ]
  },
  {
   "cell_type": "code",
   "execution_count": 3,
   "id": "fe895e97-db76-4a17-8d87-5da1282bb8a6",
   "metadata": {},
   "outputs": [],
   "source": [
    "num1 = 5"
   ]
  },
  {
   "cell_type": "code",
   "execution_count": 5,
   "id": "71b7ceec-0807-444d-b887-c71503db54e1",
   "metadata": {},
   "outputs": [
    {
     "name": "stdout",
     "output_type": "stream",
     "text": [
      "<class 'int'>\n"
     ]
    }
   ],
   "source": [
    "print(type(num1))"
   ]
  },
  {
   "cell_type": "markdown",
   "id": "636f21df-2e8c-453d-bd0f-dd38e2bfb323",
   "metadata": {},
   "source": [
    "# Float"
   ]
  },
  {
   "cell_type": "code",
   "execution_count": 8,
   "id": "843e251f-bee8-4727-8dba-29f6346c02ca",
   "metadata": {},
   "outputs": [],
   "source": [
    "num2= 5.3"
   ]
  },
  {
   "cell_type": "code",
   "execution_count": 10,
   "id": "e2841b55-3111-40ad-915e-730536f0a8f2",
   "metadata": {},
   "outputs": [
    {
     "name": "stdout",
     "output_type": "stream",
     "text": [
      "<class 'float'>\n"
     ]
    }
   ],
   "source": [
    "print(type(num2))"
   ]
  },
  {
   "cell_type": "markdown",
   "id": "1172c933-53ca-4d36-85c9-1f09485ec27f",
   "metadata": {},
   "source": [
    "# complex"
   ]
  },
  {
   "cell_type": "code",
   "execution_count": 15,
   "id": "0be192e9-a2d6-4a4a-8ac1-990f1905e7b4",
   "metadata": {},
   "outputs": [],
   "source": [
    "num3 = 1+2j"
   ]
  },
  {
   "cell_type": "code",
   "execution_count": 17,
   "id": "b5f671a3-1d02-4d32-8aa4-031716bd0358",
   "metadata": {},
   "outputs": [
    {
     "name": "stdout",
     "output_type": "stream",
     "text": [
      "<class 'complex'>\n"
     ]
    }
   ],
   "source": [
    "print(type(num3))"
   ]
  },
  {
   "cell_type": "markdown",
   "id": "868be64b-d8d6-4ac8-ad9f-663d5e728a73",
   "metadata": {},
   "source": [
    "# String "
   ]
  },
  {
   "cell_type": "code",
   "execution_count": 20,
   "id": "1eaa8f7c-2102-4701-bb95-023b3bf2e6c6",
   "metadata": {},
   "outputs": [],
   "source": [
    "text = \"hello,Nishad!\""
   ]
  },
  {
   "cell_type": "code",
   "execution_count": 22,
   "id": "4a628de7-9c5a-43e0-a2ff-5c91ae321a6a",
   "metadata": {},
   "outputs": [
    {
     "name": "stdout",
     "output_type": "stream",
     "text": [
      "<class 'str'>\n"
     ]
    }
   ],
   "source": [
    "print(type(text))"
   ]
  },
  {
   "cell_type": "markdown",
   "id": "4c1cd42c-3e5d-4ca8-b809-daf662367e90",
   "metadata": {},
   "source": [
    "# Sequence types (List,tuple,range)"
   ]
  },
  {
   "cell_type": "code",
   "execution_count": 29,
   "id": "45c073bd-d158-4b67-bc21-a200f45236ea",
   "metadata": {},
   "outputs": [],
   "source": [
    "languages = [\"Python\",\"Java\",\"C++\"]"
   ]
  },
  {
   "cell_type": "code",
   "execution_count": 31,
   "id": "3ec8ee23-88af-4d5f-8352-d2bb2aead603",
   "metadata": {},
   "outputs": [
    {
     "name": "stdout",
     "output_type": "stream",
     "text": [
      "<class 'list'>\n"
     ]
    }
   ],
   "source": [
    "print(type(languages))"
   ]
  },
  {
   "cell_type": "code",
   "execution_count": 33,
   "id": "e9100203-5dc7-4b3d-9424-c0b259210a83",
   "metadata": {},
   "outputs": [],
   "source": [
    "coordinates = (10.0,20.0)"
   ]
  },
  {
   "cell_type": "code",
   "execution_count": 35,
   "id": "7c804b5a-2050-4bef-9614-2ebfdd7f57b5",
   "metadata": {},
   "outputs": [
    {
     "name": "stdout",
     "output_type": "stream",
     "text": [
      "<class 'tuple'>\n"
     ]
    }
   ],
   "source": [
    "print(type(coordinates))"
   ]
  },
  {
   "cell_type": "code",
   "execution_count": 37,
   "id": "ab767e28-7925-444e-a143-01fd6e9973f1",
   "metadata": {},
   "outputs": [],
   "source": [
    "numbers = range(5)"
   ]
  },
  {
   "cell_type": "code",
   "execution_count": 39,
   "id": "ed732ec5-c5bc-4644-a1ac-fe3ea55f7e89",
   "metadata": {},
   "outputs": [
    {
     "name": "stdout",
     "output_type": "stream",
     "text": [
      "<class 'range'>\n"
     ]
    }
   ],
   "source": [
    "print(type(numbers))"
   ]
  },
  {
   "cell_type": "markdown",
   "id": "3049fcad-9790-4aee-9e55-f02de934c280",
   "metadata": {},
   "source": [
    "# Set type"
   ]
  },
  {
   "cell_type": "code",
   "execution_count": null,
   "id": "5d2a71b5-1c65-4061-995d-8fcbe1dcc09a",
   "metadata": {},
   "outputs": [],
   "source": []
  },
  {
   "cell_type": "markdown",
   "id": "c29a5348-cf0c-4c1c-bfea-8ed5745237c3",
   "metadata": {},
   "source": [
    "## fruits = {\"apple\", \"banana\", \"cherry\"}\n",
    "frozen_fruits = frozenset([\"apple\", \"'banana\", \"cherry\"]) "
   ]
  },
  {
   "cell_type": "markdown",
   "id": "0841df9d-e460-4b63-b4b6-891ff2ebacb2",
   "metadata": {},
   "source": [
    "# Mapping types"
   ]
  },
  {
   "cell_type": "code",
   "execution_count": 45,
   "id": "4e844685-b40f-402c-81a6-a376c9ee8a43",
   "metadata": {},
   "outputs": [
    {
     "name": "stdout",
     "output_type": "stream",
     "text": [
      "<class 'dict'>\n"
     ]
    }
   ],
   "source": [
    "student= {\"Name\": \"John\", \"Age\": 21}\n",
    "print(type(student))"
   ]
  },
  {
   "cell_type": "code",
   "execution_count": 53,
   "id": "3bd8d539-bd47-49b5-b1dd-d6144c5ffa7e",
   "metadata": {},
   "outputs": [
    {
     "name": "stdout",
     "output_type": "stream",
     "text": [
      "<class 'set'>\n",
      "<class 'frozenset'>\n"
     ]
    }
   ],
   "source": [
    "print(type(fruits))\n",
    "print(type(frozen_fruits))"
   ]
  },
  {
   "cell_type": "markdown",
   "id": "d7674a97-978a-4e60-a083-52a0ef91f749",
   "metadata": {},
   "source": [
    "# Boolean type\n"
   ]
  },
  {
   "cell_type": "code",
   "execution_count": 55,
   "id": "d328a176-f7e8-48e1-be5f-1ac192281a56",
   "metadata": {},
   "outputs": [],
   "source": [
    "is_active = True\n",
    "byte_data = b\"Hello\""
   ]
  },
  {
   "cell_type": "code",
   "execution_count": 57,
   "id": "7b358004-ba9f-4a26-82ae-6130963bb73c",
   "metadata": {},
   "outputs": [
    {
     "name": "stdout",
     "output_type": "stream",
     "text": [
      "<class 'bool'>\n",
      "<class 'bytes'>\n"
     ]
    }
   ],
   "source": [
    "print(type(is_active))\n",
    "print(type(byte_data))"
   ]
  },
  {
   "cell_type": "code",
   "execution_count": 65,
   "id": "9921479f-e4c7-4dbd-a247-ac805efa425c",
   "metadata": {},
   "outputs": [],
   "source": [
    "byte_array = bytearray(5)"
   ]
  },
  {
   "cell_type": "code",
   "execution_count": 67,
   "id": "25e7b3e7-223a-4cf8-b9bd-c7a3e733e37d",
   "metadata": {},
   "outputs": [
    {
     "name": "stdout",
     "output_type": "stream",
     "text": [
      "<class 'bytearray'>\n"
     ]
    }
   ],
   "source": [
    "print(type(byte_array))"
   ]
  },
  {
   "cell_type": "code",
   "execution_count": 71,
   "id": "2b88c5b8-db83-47a2-a16b-3cf33654f8a8",
   "metadata": {},
   "outputs": [],
   "source": [
    "mem_view = memoryview(bytes(5))"
   ]
  },
  {
   "cell_type": "code",
   "execution_count": 73,
   "id": "46bf0e4d-cf4e-4e09-a8b9-099737073cdf",
   "metadata": {},
   "outputs": [
    {
     "name": "stdout",
     "output_type": "stream",
     "text": [
      "<class 'memoryview'>\n"
     ]
    }
   ],
   "source": [
    "print(type(mem_view))"
   ]
  },
  {
   "cell_type": "markdown",
   "id": "51b605e1-73b9-444e-a501-cb01d25975b4",
   "metadata": {},
   "source": [
    "# Binary type"
   ]
  },
  {
   "cell_type": "code",
   "execution_count": 4,
   "id": "2b662c0c-10a6-4bd4-a99c-cf26ee12fc52",
   "metadata": {},
   "outputs": [],
   "source": [
    "byte_data = b\"Hello\""
   ]
  },
  {
   "cell_type": "code",
   "execution_count": 6,
   "id": "6c026d45-bc25-486f-b376-f9c9582b78d9",
   "metadata": {},
   "outputs": [
    {
     "name": "stdout",
     "output_type": "stream",
     "text": [
      "<class 'bytes'>\n"
     ]
    }
   ],
   "source": [
    "print(type(byte_data))"
   ]
  },
  {
   "cell_type": "code",
   "execution_count": 8,
   "id": "4db646c3-9112-434e-8210-561770a7c71b",
   "metadata": {},
   "outputs": [],
   "source": [
    "mem_view = memoryview(bytes(5))"
   ]
  },
  {
   "cell_type": "code",
   "execution_count": 10,
   "id": "5b84aedf-b70c-40f1-a7d4-9d45b5535f6a",
   "metadata": {},
   "outputs": [
    {
     "name": "stdout",
     "output_type": "stream",
     "text": [
      "<class 'memoryview'>\n"
     ]
    }
   ],
   "source": [
    "print(type(mem_view))"
   ]
  },
  {
   "cell_type": "markdown",
   "id": "705bec27-1f49-48f8-bf2a-66865ec6ce7c",
   "metadata": {},
   "source": [
    "# None type"
   ]
  },
  {
   "cell_type": "code",
   "execution_count": 16,
   "id": "364929ea-eee9-41ee-9b46-43e7bb49d0a5",
   "metadata": {},
   "outputs": [],
   "source": [
    "none_value = None"
   ]
  },
  {
   "cell_type": "markdown",
   "id": "3e270739-ec78-4719-989a-5133e179efec",
   "metadata": {},
   "source": [
    "print(type(none_value))"
   ]
  },
  {
   "cell_type": "markdown",
   "id": "3eb7b6f0-ad2f-4e68-859a-e33b8d2547e4",
   "metadata": {},
   "source": [
    "# Generator"
   ]
  },
  {
   "cell_type": "code",
   "execution_count": 33,
   "id": "83f96756-554b-4dd1-9666-656de2806f18",
   "metadata": {},
   "outputs": [
    {
     "name": "stdout",
     "output_type": "stream",
     "text": [
      "<class 'generator'>\n"
     ]
    }
   ],
   "source": [
    "def gen():\n",
    "    yield 1\n",
    "g = gen()\n",
    "print(type(g))  \n",
    "\n"
   ]
  },
  {
   "cell_type": "markdown",
   "id": "ef157988-1bd7-42d3-be4b-423ed36defbf",
   "metadata": {},
   "source": [
    "# Module"
   ]
  },
  {
   "cell_type": "code",
   "execution_count": 48,
   "id": "3da59a3d-a534-43ee-ab4d-c512970d36b3",
   "metadata": {},
   "outputs": [],
   "source": [
    "import math"
   ]
  },
  {
   "cell_type": "code",
   "execution_count": 50,
   "id": "9a8874f6-8533-453c-b1a0-fb167a001589",
   "metadata": {},
   "outputs": [
    {
     "name": "stdout",
     "output_type": "stream",
     "text": [
      "<class 'module'>\n"
     ]
    }
   ],
   "source": [
    "print(type(math))"
   ]
  },
  {
   "cell_type": "markdown",
   "id": "e3396d21-dee4-445e-9f96-1b1714e6d4ef",
   "metadata": {},
   "source": [
    "# Range"
   ]
  },
  {
   "cell_type": "code",
   "execution_count": 53,
   "id": "03b6bb47-ac15-413c-a900-728dcc2445fc",
   "metadata": {},
   "outputs": [],
   "source": [
    "numbers = range(5)"
   ]
  },
  {
   "cell_type": "code",
   "execution_count": 55,
   "id": "65334b7b-6fc9-481e-b3dc-124cd0f35092",
   "metadata": {},
   "outputs": [
    {
     "name": "stdout",
     "output_type": "stream",
     "text": [
      "<class 'range'>\n"
     ]
    }
   ],
   "source": [
    "print(type(numbers))"
   ]
  },
  {
   "cell_type": "markdown",
   "id": "363837bd-4585-4299-8efe-6b0930ee582f",
   "metadata": {},
   "source": [
    "# dict"
   ]
  },
  {
   "cell_type": "code",
   "execution_count": 58,
   "id": "494f6eea-f686-414f-83e3-7a881078286c",
   "metadata": {},
   "outputs": [],
   "source": [
    "student = {\"name\": \"john\",\"age\":21}"
   ]
  },
  {
   "cell_type": "code",
   "execution_count": 60,
   "id": "3f1abf52-4c11-4237-8a94-d427d2da0b47",
   "metadata": {},
   "outputs": [
    {
     "name": "stdout",
     "output_type": "stream",
     "text": [
      "<class 'dict'>\n"
     ]
    }
   ],
   "source": [
    "print(type(student))"
   ]
  },
  {
   "cell_type": "code",
   "execution_count": null,
   "id": "1370ebca-2f86-4283-aacc-376e4e845e47",
   "metadata": {},
   "outputs": [],
   "source": []
  }
 ],
 "metadata": {
  "kernelspec": {
   "display_name": "Python 3 (ipykernel)",
   "language": "python",
   "name": "python3"
  },
  "language_info": {
   "codemirror_mode": {
    "name": "ipython",
    "version": 3
   },
   "file_extension": ".py",
   "mimetype": "text/x-python",
   "name": "python",
   "nbconvert_exporter": "python",
   "pygments_lexer": "ipython3",
   "version": "3.12.4"
  }
 },
 "nbformat": 4,
 "nbformat_minor": 5
}
