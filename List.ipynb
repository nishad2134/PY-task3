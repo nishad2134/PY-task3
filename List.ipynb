{
 "cells": [
  {
   "cell_type": "markdown",
   "id": "82cf7291-ea27-46c7-87a0-c76cc69d83f1",
   "metadata": {},
   "source": [
    "# 15 types of list"
   ]
  },
  {
   "cell_type": "markdown",
   "id": "46005cb3-7e98-4538-b9d3-d514bbdd9199",
   "metadata": {},
   "source": [
    "# 1) Creating a list"
   ]
  },
  {
   "cell_type": "code",
   "execution_count": 3,
   "id": "e2599813-dabf-4852-9c15-a728f8800ce0",
   "metadata": {},
   "outputs": [],
   "source": [
    "my_list = [1,2,3,4,5]"
   ]
  },
  {
   "cell_type": "code",
   "execution_count": 5,
   "id": "624992f7-6e61-4f1b-bb19-383e61f74fda",
   "metadata": {},
   "outputs": [
    {
     "name": "stdout",
     "output_type": "stream",
     "text": [
      "[1, 2, 3, 4, 5]\n"
     ]
    }
   ],
   "source": [
    "print(my_list)"
   ]
  },
  {
   "cell_type": "markdown",
   "id": "f7411deb-01fe-4f3e-b304-6033575a859b",
   "metadata": {},
   "source": [
    "# 2) accesing elements"
   ]
  },
  {
   "cell_type": "code",
   "execution_count": 8,
   "id": "8e8149a2-4e43-4468-8b23-b9887196b765",
   "metadata": {},
   "outputs": [],
   "source": [
    "my_list = ['mango','apple','orange']"
   ]
  },
  {
   "cell_type": "code",
   "execution_count": 10,
   "id": "f72dcaf9-38d0-469d-a18c-fe2743d1bc97",
   "metadata": {},
   "outputs": [
    {
     "name": "stdout",
     "output_type": "stream",
     "text": [
      "apple\n"
     ]
    }
   ],
   "source": [
    "print(my_list[1])"
   ]
  },
  {
   "cell_type": "markdown",
   "id": "d7027e3b-b966-40c4-9fa7-302e7596ea58",
   "metadata": {},
   "source": [
    "# 3) Negtive indexing"
   ]
  },
  {
   "cell_type": "code",
   "execution_count": 13,
   "id": "980ef6ca-2a7d-4435-8c02-30a84241c351",
   "metadata": {},
   "outputs": [],
   "source": [
    "devices = ['mobile','laptop','tablet']"
   ]
  },
  {
   "cell_type": "code",
   "execution_count": 15,
   "id": "1372908c-e856-432e-9fe3-4f573524ff2f",
   "metadata": {},
   "outputs": [
    {
     "name": "stdout",
     "output_type": "stream",
     "text": [
      "laptop\n"
     ]
    }
   ],
   "source": [
    "print(devices[-2])"
   ]
  },
  {
   "cell_type": "markdown",
   "id": "fd72de40-9aa0-471c-9e29-d1a2ab95cd58",
   "metadata": {},
   "source": [
    "# 4) Slicing a list"
   ]
  },
  {
   "cell_type": "code",
   "execution_count": 18,
   "id": "e44693ef-b9d2-40d1-b3d4-da6466f22154",
   "metadata": {},
   "outputs": [],
   "source": [
    "numbers = ['1','2','3','4','5']"
   ]
  },
  {
   "cell_type": "code",
   "execution_count": 22,
   "id": "fe85e936-34da-4d28-a1b2-1027ed9227e7",
   "metadata": {},
   "outputs": [
    {
     "name": "stdout",
     "output_type": "stream",
     "text": [
      "['2', '3', '4', '5']\n"
     ]
    }
   ],
   "source": [
    "print(numbers[1:5])"
   ]
  },
  {
   "cell_type": "markdown",
   "id": "72bd68c4-f92a-48f0-92bb-cbec4d2bd5b5",
   "metadata": {},
   "source": [
    "# 5) Appending elements"
   ]
  },
  {
   "cell_type": "code",
   "execution_count": 25,
   "id": "517cb444-b916-439e-b2cf-ea07c1e0eace",
   "metadata": {},
   "outputs": [],
   "source": [
    "list2 = ['a','b','c','d']"
   ]
  },
  {
   "cell_type": "code",
   "execution_count": 31,
   "id": "edb3fd66-bb00-47de-8351-2b0d1643c81e",
   "metadata": {},
   "outputs": [],
   "source": [
    "list2.insert(5,'e')"
   ]
  },
  {
   "cell_type": "code",
   "execution_count": 33,
   "id": "23a002d0-7351-4ab1-865d-a764246be84e",
   "metadata": {},
   "outputs": [
    {
     "name": "stdout",
     "output_type": "stream",
     "text": [
      "['a', 'b', 'b', 'c', 'd', 'e']\n"
     ]
    }
   ],
   "source": [
    "print(list2)"
   ]
  },
  {
   "cell_type": "markdown",
   "id": "c2dd7123-884b-4809-a93b-d2914c3def12",
   "metadata": {},
   "source": [
    "# 6) Inserting elements"
   ]
  },
  {
   "cell_type": "code",
   "execution_count": 40,
   "id": "e2ad978f-f62e-4c63-9004-6e04e6f19c7b",
   "metadata": {},
   "outputs": [],
   "source": [
    "list6 = ['a','c','d']"
   ]
  },
  {
   "cell_type": "code",
   "execution_count": 42,
   "id": "8a59fe94-7a9d-4915-9adc-e32fd3e6022b",
   "metadata": {},
   "outputs": [],
   "source": [
    "list6.insert(1,'b')"
   ]
  },
  {
   "cell_type": "code",
   "execution_count": 44,
   "id": "a755568d-bbd2-48ec-93ee-29d88612a3a3",
   "metadata": {},
   "outputs": [
    {
     "name": "stdout",
     "output_type": "stream",
     "text": [
      "['a', 'b', 'c', 'd']\n"
     ]
    }
   ],
   "source": [
    "print(list6)"
   ]
  },
  {
   "cell_type": "markdown",
   "id": "faaa5786-f1d6-4842-911c-00f6f0732857",
   "metadata": {},
   "source": [
    "# 7) removing elements"
   ]
  },
  {
   "cell_type": "code",
   "execution_count": 47,
   "id": "395d5b52-a920-4779-b559-45f0da64fe7b",
   "metadata": {},
   "outputs": [],
   "source": [
    "list7 = ['a','b','c','d']"
   ]
  },
  {
   "cell_type": "code",
   "execution_count": 49,
   "id": "4907e197-3d16-457c-87b7-9a28bc7adb23",
   "metadata": {},
   "outputs": [],
   "source": [
    "list7.remove('c')"
   ]
  },
  {
   "cell_type": "code",
   "execution_count": 51,
   "id": "d55894d3-36bd-4816-b68b-a7a55199c8bc",
   "metadata": {},
   "outputs": [
    {
     "name": "stdout",
     "output_type": "stream",
     "text": [
      "['a', 'b', 'd']\n"
     ]
    }
   ],
   "source": [
    "print(list7)"
   ]
  },
  {
   "cell_type": "markdown",
   "id": "db15c095-466b-49e4-93bf-b9158e9b818e",
   "metadata": {},
   "source": [
    "# 8) Popping Elements"
   ]
  },
  {
   "cell_type": "code",
   "execution_count": 54,
   "id": "eef7ad7e-f3be-4203-ae94-97b985e61b7d",
   "metadata": {},
   "outputs": [],
   "source": [
    "list8 = ['a','b','c','d']"
   ]
  },
  {
   "cell_type": "code",
   "execution_count": 56,
   "id": "09189ad6-03a9-4d5c-a39b-c957bc05c2c2",
   "metadata": {},
   "outputs": [
    {
     "data": {
      "text/plain": [
       "'c'"
      ]
     },
     "execution_count": 56,
     "metadata": {},
     "output_type": "execute_result"
    }
   ],
   "source": [
    "list8.pop(2)"
   ]
  },
  {
   "cell_type": "markdown",
   "id": "20d2cbf3-c0cd-49f3-a659-c3b85cb6974e",
   "metadata": {},
   "source": [
    "# 9) Clearing a List"
   ]
  },
  {
   "cell_type": "code",
   "execution_count": 59,
   "id": "145fc372-c78b-48c3-823d-567c2530dc0b",
   "metadata": {},
   "outputs": [],
   "source": [
    "List_9 = ['a','b','c','d']"
   ]
  },
  {
   "cell_type": "code",
   "execution_count": 65,
   "id": "9a38e8d6-899a-476c-bee2-1b92ce962e79",
   "metadata": {},
   "outputs": [],
   "source": [
    "List_9.clear()"
   ]
  },
  {
   "cell_type": "code",
   "execution_count": 67,
   "id": "71d02e11-e007-498a-8233-2fee3a1765aa",
   "metadata": {},
   "outputs": [
    {
     "name": "stdout",
     "output_type": "stream",
     "text": [
      "[]\n"
     ]
    }
   ],
   "source": [
    "print(List_9)"
   ]
  },
  {
   "cell_type": "markdown",
   "id": "57b2acaf-cd16-47a7-a680-213f3d559227",
   "metadata": {},
   "source": [
    "# 10) List Comprehensions"
   ]
  },
  {
   "cell_type": "code",
   "execution_count": 74,
   "id": "0a7a8baf-9315-4e37-b174-c8168d8fdffc",
   "metadata": {},
   "outputs": [],
   "source": [
    "squares = [x**3 for x in range(5)]"
   ]
  },
  {
   "cell_type": "code",
   "execution_count": 76,
   "id": "a1e4d022-8c64-41a0-8a4b-478979be4993",
   "metadata": {},
   "outputs": [
    {
     "name": "stdout",
     "output_type": "stream",
     "text": [
      "[0, 1, 8, 27, 64]\n"
     ]
    }
   ],
   "source": [
    "print(squares)"
   ]
  },
  {
   "cell_type": "markdown",
   "id": "a14332e3-d9f6-483e-a8b2-eb7d0a80efb7",
   "metadata": {},
   "source": [
    "# 11) Extending a List"
   ]
  },
  {
   "cell_type": "code",
   "execution_count": 80,
   "id": "d52f5d4b-78d0-4651-bc54-806631d1271e",
   "metadata": {},
   "outputs": [],
   "source": [
    "list10= ['a','b']"
   ]
  },
  {
   "cell_type": "code",
   "execution_count": 82,
   "id": "0125fea8-fc3e-4303-a4fc-707c5af8ec92",
   "metadata": {},
   "outputs": [],
   "source": [
    "list10.extend(['c','d'])"
   ]
  },
  {
   "cell_type": "code",
   "execution_count": 84,
   "id": "a6dc6f00-06e8-41b6-ab37-72d8eeed8817",
   "metadata": {},
   "outputs": [
    {
     "name": "stdout",
     "output_type": "stream",
     "text": [
      "['a', 'b', 'c', 'd']\n"
     ]
    }
   ],
   "source": [
    "print(list10)"
   ]
  },
  {
   "cell_type": "markdown",
   "id": "8f16dd90-c1d2-4f09-ba94-f4d75cedb2e8",
   "metadata": {},
   "source": [
    "# 12) Sorting a list"
   ]
  },
  {
   "cell_type": "code",
   "execution_count": 87,
   "id": "d337ebb5-09e9-4cf1-9523-ab0e016169b3",
   "metadata": {},
   "outputs": [],
   "source": [
    "list12= [3,4,5,2,1]"
   ]
  },
  {
   "cell_type": "code",
   "execution_count": 89,
   "id": "0165fae0-eb68-485c-a8af-6ad020d0a149",
   "metadata": {},
   "outputs": [],
   "source": [
    "list12.sort()"
   ]
  },
  {
   "cell_type": "code",
   "execution_count": 91,
   "id": "4776020e-71f9-47ec-b823-878f155585e8",
   "metadata": {},
   "outputs": [
    {
     "name": "stdout",
     "output_type": "stream",
     "text": [
      "[1, 2, 3, 4, 5]\n"
     ]
    }
   ],
   "source": [
    "print(list12)"
   ]
  },
  {
   "cell_type": "markdown",
   "id": "5b1fcfb9-6cba-42ab-ad33-3c6bcb157a38",
   "metadata": {},
   "source": [
    "# 13) Reversing a list"
   ]
  },
  {
   "cell_type": "code",
   "execution_count": 94,
   "id": "37a2ad52-cf05-41d1-a4d6-289a0815143a",
   "metadata": {},
   "outputs": [],
   "source": [
    "list13= [1,2,3,4,5]"
   ]
  },
  {
   "cell_type": "code",
   "execution_count": 96,
   "id": "1dd38da2-e7fc-4e30-a34f-657b82e204af",
   "metadata": {},
   "outputs": [],
   "source": [
    "list13.reverse()"
   ]
  },
  {
   "cell_type": "code",
   "execution_count": 98,
   "id": "9a226e54-288e-42d5-8782-6f88378301f2",
   "metadata": {},
   "outputs": [
    {
     "name": "stdout",
     "output_type": "stream",
     "text": [
      "[5, 4, 3, 2, 1]\n"
     ]
    }
   ],
   "source": [
    "print(list13)"
   ]
  },
  {
   "cell_type": "markdown",
   "id": "43b3856d-16d4-4b7e-a29e-0a5611bd24dd",
   "metadata": {},
   "source": [
    "# 14) Copying a list"
   ]
  },
  {
   "cell_type": "code",
   "execution_count": 101,
   "id": "ac150b58-9384-47e2-b1ce-60a789dbfba6",
   "metadata": {},
   "outputs": [],
   "source": [
    "list14 =['a','b','c']"
   ]
  },
  {
   "cell_type": "code",
   "execution_count": 103,
   "id": "0f28c99a-c950-4d5a-86ba-8268adbe7401",
   "metadata": {},
   "outputs": [],
   "source": [
    "new_list = list14.copy()"
   ]
  },
  {
   "cell_type": "code",
   "execution_count": 105,
   "id": "34ebcc9d-8ea4-4a14-8aa4-7535a0366b9f",
   "metadata": {},
   "outputs": [
    {
     "name": "stdout",
     "output_type": "stream",
     "text": [
      "['a', 'b', 'c']\n"
     ]
    }
   ],
   "source": [
    "print(new_list)"
   ]
  },
  {
   "cell_type": "markdown",
   "id": "80d0a8e9-04db-4c5c-97cd-e6c1e1c85613",
   "metadata": {},
   "source": [
    "# 15) Finding the length of a list"
   ]
  },
  {
   "cell_type": "code",
   "execution_count": 108,
   "id": "bedcf6cd-ac60-47f9-b9b7-2bb0b7dab04a",
   "metadata": {},
   "outputs": [],
   "source": [
    "list15= ['a','b','c','d','e']"
   ]
  },
  {
   "cell_type": "code",
   "execution_count": 110,
   "id": "646aca55-56e6-42b2-8d71-d4f7972097e0",
   "metadata": {},
   "outputs": [
    {
     "name": "stdout",
     "output_type": "stream",
     "text": [
      "5\n"
     ]
    }
   ],
   "source": [
    "print(len(list15))"
   ]
  },
  {
   "cell_type": "code",
   "execution_count": null,
   "id": "e3f49534-26be-4ffa-86e8-1a1cc9b7def1",
   "metadata": {},
   "outputs": [],
   "source": []
  }
 ],
 "metadata": {
  "kernelspec": {
   "display_name": "Python 3 (ipykernel)",
   "language": "python",
   "name": "python3"
  },
  "language_info": {
   "codemirror_mode": {
    "name": "ipython",
    "version": 3
   },
   "file_extension": ".py",
   "mimetype": "text/x-python",
   "name": "python",
   "nbconvert_exporter": "python",
   "pygments_lexer": "ipython3",
   "version": "3.12.4"
  }
 },
 "nbformat": 4,
 "nbformat_minor": 5
}
